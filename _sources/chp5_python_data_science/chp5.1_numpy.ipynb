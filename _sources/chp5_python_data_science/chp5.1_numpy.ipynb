{
 "cells": [
  {
   "cell_type": "markdown",
   "id": "6e0a3d7c-d6cd-4d04-ad01-b6f0a0cf01f4",
   "metadata": {
    "tags": []
   },
   "source": [
    "# Numpy 简介\n",
    "\n",
    "numpy 是一个功能强大的 python 库，主要用于对多维数组执行计算。numpy 这个词来源于两个单词 *Numerical*和 *Python*。numpy提供了大量的库函数和操作，可以帮助程序员轻松地进行数值计算。这类数值计算广泛用于机器学习模型，图像处理和计算机图形学和数学任务。\n",
    "\n",
    "在我们的计算机上安装 numpy 的最快也是最简单的方法是在 shell 上使用以下命令：\n",
    "```\n",
    "pip install numpy。\n",
    "```\n",
    "这将在我们的计算机上安装最新/最稳定的 numpy 版本。通过 PIP 安装是安装任 python 软件包的最简单方法。\n",
    "\n",
    "教程使用的python编程环境中已经提供这个包了，我们能直接使用numpy，现在让我们来谈谈 numpy 中最重要的概念，numpy 数组。在本章的学习中，我们将了解什么是 numpy 数组；python 列表 numpy 数组之间的主要区别以及 numpy 数组的维数。\n",
    "\n",
    "## 1.1 什么是 numpy 数组\n",
    "\n",
    "numpy提供的最重要的数据结构是一个称为numpy数组的强大对象。numPy数组是通常的python数组的扩展。numpy数组配备了大量的函数和运算符，可以帮助我们快速编写各种类型计算的高性能代码。  \n",
    "\n",
    "与 python 列表一样，numpy 数组也由有序值（称为元素）组成，并且还使用索引来组织和操作。numpy数组的一个关键特征是数组中的所有元素都必须是相同类型的数据（即整数、浮点数、文本、字符串等）。  \n",
    "\n",
    "## 1.2 Python Array 和 Numpy Array 的区别\n",
    "\n",
    "虽然 python 列表和 numpy 数组有相似之处，因为它们都是使用索引来帮助我们来存储和访问数据的值的集合，但这两种数据结构之间存在一些关键区别：\n",
    "\n",
    "与 python 列表不同，numpy 数组中的所有元素必须具有相同的数据类型;\n",
    "\n",
    "与 python 列表不同，numpy 数组不是通过添加/删除/替换数组中的元素来编辑的。相反，每次以某种方式操作 numpy 数组时，它实际上每次都会被删除并重新创建。\n",
    "\n",
    "numpy 数组可以沿着彼此相对的多个维度（例如行，列）存储数据。这使得 numpy 数组成为大型数据集的非常有效的数据结构。\n",
    "\n",
    "## 1.3 Numpy Array 的维度\n",
    "\n",
    "numpy 数组可以是：\n",
    "\n",
    "  由沿一个维度的值组成的一维（类似于 python 列表）。\n",
    "  由具有一列或多列的单个数组行组成的二维。\n",
    "  由具有一个或多个维度的嵌套数组组成的多维。\n",
    "\n",
    "在本章中,我们将使用一维和二维 numpy 数组。对于 numpy 数组，括号用于分配和标识 numpy 数组的维度。下面的示例演示了如何使用一组括号来定义一维数组。"
   ]
  },
  {
   "cell_type": "code",
   "execution_count": null,
   "id": "5a43920d-7c9e-46ae-a480-f9ffeaed3c2f",
   "metadata": {},
   "outputs": [],
   "source": [
    "# Import numpy with alias np\n",
    "import numpy as np"
   ]
  },
  {
   "cell_type": "code",
   "execution_count": 2,
   "id": "0722d845-28ad-4227-9038-0420a53e162d",
   "metadata": {},
   "outputs": [
    {
     "name": "stdout",
     "output_type": "stream",
     "text": [
      "[0.7  0.75 1.85]\n"
     ]
    }
   ],
   "source": [
    "# Monthly avg precip for Jan through Mar in Boulder, CO\n",
    "avg_monthly_precip = np.array([0.70, 0.75, 1.85])\n",
    "\n",
    "print(avg_monthly_precip)"
   ]
  },
  {
   "cell_type": "markdown",
   "id": "6100b259-db19-4f72-ad31-151295be36ef",
   "metadata": {},
   "source": [
    "请注意，一维 numpy 数组的输出也包含在一组括号中。\n",
    "\n",
    "要创建二维数组，我们需要指定两组括号 ，定义整个数组结构的外部集合和定义各个数组行的内部集合。"
   ]
  },
  {
   "cell_type": "code",
   "execution_count": 3,
   "id": "e5520ad9-0999-49ae-b89d-4d0ace2d2aa8",
   "metadata": {},
   "outputs": [
    {
     "name": "stdout",
     "output_type": "stream",
     "text": [
      "[[1.07 0.44 1.5 ]\n",
      " [0.27 1.13 1.72]]\n"
     ]
    }
   ],
   "source": [
    "# Monthly precip for Jan through Mar in 2002 and 2013\n",
    "precip_2002_2013 = np.array([\n",
    "    [1.07, 0.44, 1.50],\n",
    "    [0.27, 1.13, 1.72]\n",
    "])\n",
    "\n",
    "print(precip_2002_2013)"
   ]
  },
  {
   "cell_type": "markdown",
   "id": "41dbb005-8195-4f4e-a953-6a1f9947dcd6",
   "metadata": {},
   "source": [
    "再次注意，二维 numpy 数组的输出包含两组括号 ，这是一种识别 numpy 数组是否为二维的简单，直观的方法。"
   ]
  },
  {
   "cell_type": "markdown",
   "id": "b949a07f-1ea4-4b7a-b019-da8b3d6cc9cb",
   "metadata": {},
   "source": [
    "# 2 利用 numpy 进行统计分析\n",
    "\n",
    "## 2.1 读写文件\n",
    "\n",
    "numpy 文件读写主要有二进制的文件读写和文件列表形式的数据读写两种形式。\n",
    "save 函数是以二进制的格式保存数据。np.save(\"../tmp/save_arr\",arr)\n",
    "load 函数是从二进制的文件中读取数据。np.load(\"../tmp/save_arr.npy\")\n",
    "savez 函数可以将多个数组保存到一个文件中。np.savez(\"../tmp/savez_arr\",arr1.arr2)\n",
    "\n",
    "读取文本格式的数据（txt csv格式）\n",
    "savetxt 函数是将数组写到某种分隔符隔开的文本文件中。\n",
    " ```\n",
    "np.savetxt(\"../tmp/arr.txt\",arr,fmt=\"%d\",delimiter=\",\")\n",
    " ```\n",
    "##fmt=\"%d\" 表示保存为整数，delimiter=\",\",表示用‘,’隔开"
   ]
  },
  {
   "cell_type": "markdown",
   "id": "a7881daa-93cd-41f8-9575-3fdc2d67e948",
   "metadata": {},
   "source": [
    "loadtxt 函数执行的是把文件加载到一个二维数组中。\n",
    " ```\n",
    "np.loadtxt(\"../tmp/arr.txt\",delimiter=\",\")\n",
    " ```"
   ]
  },
  {
   "cell_type": "markdown",
   "id": "27fd642f-54d4-45d8-ba16-c8732d1e6c4a",
   "metadata": {},
   "source": [
    "genfromtxt 函数面向的是结构化数组 和缺失数据。\n",
    " ```\n",
    "np.genfromtxt(\"../tmp/arr.txt\",delimiter=\",\")\n",
    " ```"
   ]
  },
  {
   "cell_type": "markdown",
   "id": "9901c60a-c9c5-4cef-a74f-eef15434c387",
   "metadata": {},
   "source": [
    "### 2.2 使用数组进行简单的统计分析\n",
    "\n",
    "**直接排序**\n",
    "\n",
    "sort 函数是最常用的排序方法。 arr.sort()\n",
    "sort 函数也可以指定一个 axis 参数，使得 sort 函数可以沿着指定轴对数据集进行排序。axis=1 时，沿横轴，列的方向排序；axis=0 时，沿纵轴，行的方向排序。\n",
    "\n",
    "**间接排序**：\n",
    "\n",
    "argsort 函数返回值为重新排序值得下标。arr.argsort()示例如下："
   ]
  },
  {
   "cell_type": "code",
   "execution_count": 8,
   "id": "d725f11c-73cd-4ca6-8b79-c9239ea19851",
   "metadata": {},
   "outputs": [
    {
     "name": "stdout",
     "output_type": "stream",
     "text": [
      "[4 3 2 1]\n",
      "[3 2 1 0]\n"
     ]
    }
   ],
   "source": [
    "import numpy as np\n",
    " \n",
    "arr = np.arange(4,0,-1)\n",
    " \n",
    "print(arr)\n",
    " \n",
    "res = arr.argsort()\n",
    " \n",
    "print(res)"
   ]
  },
  {
   "cell_type": "markdown",
   "id": "a421013a-fea7-4294-9def-eb0cc7717bc6",
   "metadata": {},
   "source": [
    "lexsort 函数返回值是按照最后一个传入数据排序的。np.lexsort((a,b,c)),则按照 c 的下标排序。"
   ]
  },
  {
   "cell_type": "code",
   "execution_count": 9,
   "id": "7fe0e78c-db34-45d2-ba71-59fc3ee43ec3",
   "metadata": {},
   "outputs": [
    {
     "name": "stdout",
     "output_type": "stream",
     "text": [
      "[1 3 2 0]\n"
     ]
    }
   ],
   "source": [
    "import numpy as np\n",
    " \n",
    "arr1 = np.array([1,5,2,4])\n",
    " \n",
    "arr2 = np.array([99,22,44,33])\n",
    " \n",
    "res = np.lexsort((arr1,arr2))   ###按照arr2的下标排序\n",
    " \n",
    "print(res)"
   ]
  },
  {
   "cell_type": "markdown",
   "id": "3caf3aa6-76e0-4b77-94bf-6e2a288242d8",
   "metadata": {},
   "source": [
    "**去重与重复数据**：\n",
    "通过 unique 函数可以找出数组中的唯一值并返回已排序的结果。"
   ]
  },
  {
   "cell_type": "code",
   "execution_count": 10,
   "id": "3e3452ad-b86f-46d2-b8aa-ca0f308f269b",
   "metadata": {},
   "outputs": [
    {
     "name": "stdout",
     "output_type": "stream",
     "text": [
      "[1 2 3 4 6 7]\n"
     ]
    }
   ],
   "source": [
    "import numpy as np\n",
    " \n",
    "arr = np.array([[1,2,2,6,4,4,3,2,7]])\n",
    " \n",
    "## 去重+排序\n",
    " \n",
    "arr_new  = np.unique(arr)\n",
    " \n",
    "print(arr_new)"
   ]
  },
  {
   "cell_type": "markdown",
   "id": "8e6ec946-2c38-4499-8f4a-5695ee45e358",
   "metadata": {},
   "source": [
    "## 2.3 常用统计函数\n",
    "当 axis=0 时，表示沿着纵轴（行）计算。当 axis=1 时，表示沿着横轴（列）计算。默认时计算一个总值。"
   ]
  },
  {
   "cell_type": "code",
   "execution_count": 11,
   "id": "28ff7bca-34c6-4d1b-8cb2-6d78a2d4ea09",
   "metadata": {},
   "outputs": [
    {
     "name": "stdout",
     "output_type": "stream",
     "text": [
      "[[0 1 2]\n",
      " [3 4 5]\n",
      " [6 7 8]]\n",
      "arr的和为: [ 3 12 21]\n",
      "arr的和为: [ 9 12 15]\n",
      "arr的平均值为： [1. 4. 7.]\n",
      "arr的标准差为： [0.81649658 0.81649658 0.81649658]\n",
      "arr的方差为： [0.66666667 0.66666667 0.66666667]\n",
      "arr的最小值为： [0 3 6]\n",
      "arr的最大值为： [2 5 8]\n",
      "arr的最大值下标为： [2 2 2]\n",
      "arr的最小值下标为： [0 0 0]\n",
      "arr的累计和为： [[ 0  1  3]\n",
      " [ 3  7 12]\n",
      " [ 6 13 21]]\n",
      "arr的累计积为： [[  0   0   0]\n",
      " [  3  12  60]\n",
      " [  6  42 336]]\n"
     ]
    }
   ],
   "source": [
    "import numpy as np\n",
    " \n",
    "arr = np.arange(9).reshape(3,3)\n",
    "print(arr)\n",
    " \n",
    "### sum,mean,std,var,min,max,argmax,argmin,cumsum,cumprod\n",
    "print(\"arr的和为:\",arr.sum(axis=1))   ##按照列的方向，横着求和\n",
    "print(\"arr的和为:\",arr.sum(axis=0))   ##按照行的方向，竖着求和\n",
    "print(\"arr的平均值为：\",np.mean(arr,axis=1))\n",
    "print(\"arr的标准差为：\",np.std(arr,axis=1))\n",
    "print(\"arr的方差为：\",np.var(arr,axis=1))\n",
    "print(\"arr的最小值为：\",np.min(arr,axis=1))\n",
    "print(\"arr的最大值为：\",np.max(arr,axis=1))\n",
    "print(\"arr的最大值下标为：\",np.argmax(arr,axis=1))\n",
    "print(\"arr的最小值下标为：\",np.argmin(arr,axis=1))\n",
    "print(\"arr的累计和为：\",np.cumsum(arr,axis=1))\n",
    "print(\"arr的累计积为：\",np.cumprod(arr,axis=1))"
   ]
  },
  {
   "cell_type": "markdown",
   "id": "004e6b94-dce1-4150-8699-ad8ab7ca997b",
   "metadata": {},
   "source": [
    "# 3 numpy 数组索引和切片\n",
    "\n",
    "## 3.1 numpy 数组索引\n",
    "\n",
    "数组索引与访问数组元素相同。我们可以通过引用数组元素的索引号来访问该元素。numpy 数组中的索引以0开头，这意味着第一个元素的索引为0，第二个元素的索引为1，依此类推。\n",
    "\n",
    "**一维 numpy 数组索引**\n",
    "\n",
    "对于一维 numpy 数组，只需指定一个索引值，即元素在 numpy 数组中的位置（例如）:\n",
    "从以下数组中获取第一个元素："
   ]
  },
  {
   "cell_type": "code",
   "execution_count": 12,
   "id": "ec2897d4-e2d1-420f-9613-67daefcc9932",
   "metadata": {},
   "outputs": [
    {
     "name": "stdout",
     "output_type": "stream",
     "text": [
      "1\n"
     ]
    }
   ],
   "source": [
    "import numpy as np\n",
    "\n",
    "arr = np.array([1, 2, 3, 4])\n",
    "\n",
    "print(arr[0])"
   ]
  },
  {
   "cell_type": "markdown",
   "id": "ff519f0d-e6b1-4862-a2dd-82074b9c0daf",
   "metadata": {},
   "source": [
    "**二维 numpy 数组索引**\n",
    "\n",
    "要从二维数组中访问元素，我们可以使用逗号分隔的整数来表示元素的维度和索引。\n",
    "将二维数组想象成包含行和列的表，其中行表示维度，索引表示列。\n",
    "例:访问第一行第二列上的元素："
   ]
  },
  {
   "cell_type": "code",
   "execution_count": 13,
   "id": "f678ba25-1b1a-4665-b64a-4c7d06e6c3e0",
   "metadata": {},
   "outputs": [
    {
     "name": "stdout",
     "output_type": "stream",
     "text": [
      "第一行第二列上的元素为:  2\n"
     ]
    }
   ],
   "source": [
    "import numpy as np\n",
    "\n",
    "arr = np.array([[1,2,3,4,5], [6,7,8,9,10]])\n",
    "\n",
    "print('第一行第二列上的元素为: ', arr[0, 1])"
   ]
  },
  {
   "cell_type": "markdown",
   "id": "0c2f2e31-0820-48e7-9358-6d52d1abdad2",
   "metadata": {},
   "source": [
    "## 3.2 numpy 数组切片\n",
    "\n",
    "python中的切片意味着将元素从一个给定索引带到另一个给定索引。\n",
    "我们传递切片而不是索引，如下所示：\n",
    "```\n",
    "[start:end]\n",
    "```\n",
    "\n",
    "我们也可以定义步骤，如下所示：\n",
    "```\n",
    "[start:end:step]\n",
    "```\n",
    "如果我们不设置 start ，则表示从 0 开始；如果我们不设置 end，则表示数组长度；如果我们不设置 step，则默认为1\n",
    "\n",
    "例：从以下数组中将元素从索引 1 切片到索引 5："
   ]
  },
  {
   "cell_type": "code",
   "execution_count": 14,
   "id": "94d29a56-9a5a-4bf9-bd9f-26652452e55b",
   "metadata": {},
   "outputs": [
    {
     "name": "stdout",
     "output_type": "stream",
     "text": [
      "[2 3 4 5]\n"
     ]
    }
   ],
   "source": [
    "import numpy as np\n",
    "\n",
    "arr = np.array([1, 2, 3, 4, 5, 6, 7])\n",
    "\n",
    "print(arr[1:5])"
   ]
  },
  {
   "cell_type": "markdown",
   "id": "8bf16c68-d4a6-45cc-8036-a7310c029190",
   "metadata": {},
   "source": [
    "注意： 结果包括起始索引，但不包括结束索引。"
   ]
  },
  {
   "cell_type": "markdown",
   "id": "c2c97ccf-462b-425a-bbff-8a6b38bd8e4e",
   "metadata": {},
   "source": [
    "例 : 将元素从索引 4 切片到数组的末尾"
   ]
  },
  {
   "cell_type": "code",
   "execution_count": 16,
   "id": "6518e9ee-6213-40f7-8dd6-597aa6b347a8",
   "metadata": {},
   "outputs": [
    {
     "name": "stdout",
     "output_type": "stream",
     "text": [
      "[5 6 7]\n"
     ]
    }
   ],
   "source": [
    "import numpy as np\n",
    "\n",
    "arr = np.array([1, 2, 3, 4, 5, 6, 7])\n",
    "\n",
    "print(arr[4:])\n"
   ]
  },
  {
   "cell_type": "markdown",
   "id": "1dab46bb-2d9b-4cc7-bc3b-1443fc2456d8",
   "metadata": {},
   "source": [
    "例：从开始到索引 4（不包括）对元素进行切片："
   ]
  },
  {
   "cell_type": "code",
   "execution_count": 17,
   "id": "81a36a85-3839-4eaa-84df-155f9c5e8964",
   "metadata": {},
   "outputs": [
    {
     "name": "stdout",
     "output_type": "stream",
     "text": [
      "[1 2 3 4]\n"
     ]
    }
   ],
   "source": [
    "import numpy as np\n",
    "\n",
    "arr = np.array([1, 2, 3, 4, 5, 6, 7])\n",
    "\n",
    "print(arr[:4])"
   ]
  },
  {
   "cell_type": "markdown",
   "id": "383e02e2-c432-4bff-a2d2-ee4f90777071",
   "metadata": {},
   "source": [
    "**step 步长**\n",
    "使用 step 确定切片长度：\n",
    "例：返回从索引 1 到索引 5 的所有其他元素："
   ]
  },
  {
   "cell_type": "code",
   "execution_count": 18,
   "id": "0957cbe7-8656-45a6-8c6c-7e24d48d6b40",
   "metadata": {},
   "outputs": [
    {
     "name": "stdout",
     "output_type": "stream",
     "text": [
      "[2 4]\n"
     ]
    }
   ],
   "source": [
    "import numpy as np\n",
    "\n",
    "arr = np.array([1, 2, 3, 4, 5, 6, 7])\n",
    "\n",
    "print(arr[1:5:2])\n"
   ]
  },
  {
   "cell_type": "markdown",
   "id": "3f566e32-cc78-4e0f-b6a2-4d63c2d0df21",
   "metadata": {},
   "source": [
    "**2维数组切片**        \n",
    "X[n0,n1]是通过 numpy 库引用二维数组或矩阵中的某一段数据集的一种写法。\n",
    "X 是一个二维数组，维度分别为 0，1。为了方便理解多维，采取数中括号的方式确定维数。\n",
    "\n",
    "**取元素 X[n0,n1]**        \n",
    "这是最基本的情况，表示取第 0 维的第 n0 个元素，继续取第1维的第 n1个元素。如 X[2,2] 表示第0维第2个元素[20,21,22,23],然后取其第1维的第2个元素即 22；\n",
    "\n",
    "**切片 X[s0:e0,s1:e1]**                      \n",
    "这是最通用的切片操作，表示取第0维的第 s0 到 e0 个元素，继续取第1维的第 s1 到 e1 个元素（左闭右开）。如 X[1:3,1:3] 表示第 0 维第(1:3)个元素[[10,11,12,13],[20,21,22,23]],然后取其第1维的第(1:3)个元素即 [[11,12],[21,22]]；\n",
    "\n",
    "**切片特殊情况 X[:e0,s1:]**           \n",
    "特殊情况，即左边从 0 开始可以省略X[:e0,s1:e1]，右边到结尾可以省略X[s0:,s1:e1]，取某一维全部元素X[:,s1:e1]，事实上和 python 的序列切片规则是一样的。\n",
    "\n",
    "常见的 X[:,0] 则表示第 0 维取全部，第1维取0号元素；"
   ]
  },
  {
   "cell_type": "code",
   "execution_count": 21,
   "id": "0ea8c088-3e74-4c21-a68f-3e7e5be40ee3",
   "metadata": {},
   "outputs": [
    {
     "name": "stdout",
     "output_type": "stream",
     "text": [
      "10\n",
      "[[11 12]\n",
      " [21 22]]\n",
      "[[ 0  1]\n",
      " [10 11]]\n",
      "[[ 0  1]\n",
      " [10 11]\n",
      " [20 21]\n",
      " [30 31]]\n",
      "[ 0 10 20 30]\n"
     ]
    }
   ],
   "source": [
    "import numpy as np\n",
    "\n",
    "X = np.array([[0,1,2,3],[10,11,12,13],[20,21,22,23],[30,31,32,33]])\n",
    "\n",
    "# X 是一个二维数组，维度为 0 ，1\n",
    "# 第 0 层 [] 表示第 0 维；第 1 层 [] 表示第 1 维；\n",
    "\n",
    "# X[n0,n1] 表示第 0 维 取第n0 个元素 ，第 1 维取第 n1 个元素\n",
    "print(X[1,0])\n",
    "# X[1:3,1:3] 表示第 0 维 取 (1:3)元素 ，第 1 维取第(1:3) 个元素\n",
    "print(X[1:3,1:3])\n",
    "\n",
    "# X[:n0,:n1] 表示第 0 维 取 第0 到 第n0 个元素 ，第 1 维取 第0 到 第n1 个元素\n",
    "print(X[:2,:2])\n",
    "# X[:,:n1] 表示第 0 维 取 全部元素 ，第 1 维取 第0 到第n1 个元素\n",
    "print(X[:,:2])\n",
    "\n",
    "# X[:,0]) 表示第 0 维 取全部 元素 ，第 1 维取第 0 个元素\n",
    "print(X[:,0])\n"
   ]
  },
  {
   "cell_type": "markdown",
   "id": "e82a4220-7e94-4c75-9cb9-75fc7c16b6d7",
   "metadata": {},
   "source": [
    "还有很多内容，但是这里篇幅所限，我们就介绍一些最基本的内容，更多内容大家可以自己在实际使用过程中从[官方文档](https://numpy.org/doc/stable/)慢慢学习，我们后面有一个完整例子，会介绍其中用到的numpy运算操作。"
   ]
  }
 ],
 "metadata": {
  "kernelspec": {
   "display_name": "Python (tutorial)",
   "language": "python",
   "name": "tutorial"
  },
  "language_info": {
   "codemirror_mode": {
    "name": "ipython",
    "version": 3
   },
   "file_extension": ".py",
   "mimetype": "text/x-python",
   "name": "python",
   "nbconvert_exporter": "python",
   "pygments_lexer": "ipython3",
   "version": "3.9.13"
  }
 },
 "nbformat": 4,
 "nbformat_minor": 5
}
