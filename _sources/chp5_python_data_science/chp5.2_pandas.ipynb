{
 "cells": [
  {
   "cell_type": "markdown",
   "id": "b7abedc2-fd31-4f77-9171-fc535bffcdfa",
   "metadata": {},
   "source": [
    "# Pandas 简介\n",
    "\n",
    "Pandas，是 python+data+analysis 的组合缩写，是 python 中基于 numpy 和 matplotlib 的第三方数据分析库，与后两者共同构成了 python 数据分析的基础工具包，享有数分三剑客之名。\n",
    "\n",
    "我们知道，构建和处理二维、多维数组是一项繁琐的任务。Pandas 为解决这一问题，在ndarray 数组（numpy 中的数组）的基础上构建出了两种不同的数据结构，分别是 Series（一维数据结构）, Pandas dataframe （二维数据结构）：\n",
    "\n",
    "Series 是带标签的一维数组，这里的标签可以理解为索引，但这个索引并不局限于整数，它也可以是字符类型，比如 a、b、c 等；而 Pandas dataframe 是一种表格型数据结构，它既有行标签，又有列标签，基本可以把它当作一个excel表格。\n",
    "\n",
    "Series比较简单，例如下面这样，可以认为它是excel的一列，有行标签。"
   ]
  },
  {
   "cell_type": "code",
   "execution_count": 4,
   "id": "fea47823-85e4-4aaf-a84a-72011259f297",
   "metadata": {},
   "outputs": [],
   "source": [
    "# 导入pandas\n",
    "import pandas as pd\n",
    "# numpy经常和pandas一起使用\n",
    "import numpy as np"
   ]
  },
  {
   "cell_type": "code",
   "execution_count": 8,
   "id": "439a5f72-6beb-4e0e-a112-c2b8b83a5037",
   "metadata": {},
   "outputs": [
    {
     "data": {
      "text/plain": [
       "a               [1, 2, 3, 4]\n",
       "b    an element in pd.Series\n",
       "dtype: object"
      ]
     },
     "execution_count": 8,
     "metadata": {},
     "output_type": "execute_result"
    }
   ],
   "source": [
    "# 初始化Series\n",
    "k = pd.Series({'a':np.arange(1, 5),'b':\"an element in pd.Series\"})\n",
    "k"
   ]
  },
  {
   "cell_type": "markdown",
   "id": "8c3ece7d-53d1-4fb4-a18a-6ac90199cfb5",
   "metadata": {},
   "source": [
    "在本节，我们主要介绍 pandas dataframe，了解了它就基本知道pandas的基础用法了。"
   ]
  },
  {
   "cell_type": "markdown",
   "id": "40441117-08c4-47bc-9e84-5e53497a0b72",
   "metadata": {},
   "source": [
    "## 1 认识 pandas dataframe "
   ]
  },
  {
   "cell_type": "markdown",
   "id": "41f59480-bacd-416a-a3f3-9187e7256a36",
   "metadata": {},
   "source": [
    "pandas dataframe 是一个表格型的数据结构，既有行标签（index），又有列标签（columns），它也被称异构数据表，所谓异构，指的是表格中每列的数据类型可以不同，比如可以是字符串、整型或者浮点型等。pandas dataframe 中每个值都称为一个单元格，该单元格在表格结构中具有特定的行索引和列索引。"
   ]
  },
  {
   "cell_type": "markdown",
   "id": "367fcd94-3853-43fc-938f-e61fd099747f",
   "metadata": {},
   "source": [
    "## 2 pandas dataframe 的特征\n",
    "\n",
    "pandas dataframe 的每一列数据都可以看成一个 Series 结构，pandas dataframe 为每列数据都设置了列标签，每行数据也可以有行标签。\n",
    "\n",
    "pandas dataframe 具有其独特的特征，使其与其他数据结构区分开来： \n",
    "\n",
    "1. pandas dataframe 中的每个列都可以有一个标签名称（即标题名称），并且可以包含与其相邻列不同的数据类型。                         \n",
    "2. 默认情况下，每行都有一个索引，其值范围从0开始。但是，pandas dataframe 中的行索引也可以设置为标签（例如位置名称，日期）。pandas dataframe 中的所有单元格都具有行索引和列索引（即二维表结构），即使pandas dataframe 中只有一个单元格也是如此。                                   \n",
    "3. 除了通过基于位置索引选择单元格（例如，第 1 行第 1 列的单元格）之外，我们还可以根据特定值（例如，查询特定文本字符串或数值）在 pandas dataframe 内查询数据。     \n",
    "4. 由于其固有的表格结构，pandas 数据帧还允许单元格具有空值（即没有数据值，例如NaN值，即Not a Number，-999 等）。                                         "
   ]
  },
  {
   "cell_type": "markdown",
   "id": "52ce1af5-bf50-4fa1-bf50-d2f413cbfa75",
   "metadata": {},
   "source": [
    "## 3 pandas dataframe 可以用来做什么\n",
    "\n",
    "### 3.1 读取数据\n",
    "\n",
    "read_csv() 表示从 CSV 文件中读取数据，并创建 DataFrame 对象。                          \n",
    "关于文件读取时，文件路径怎么书写，我们在前边的章节以及学习过了，就不再赘述。                                                                           \n",
    "注：我们在本小节用来示例的csv文件为同一个，是一个网络数据文件。"
   ]
  },
  {
   "cell_type": "code",
   "execution_count": 10,
   "id": "60cba0dc-50d7-4f07-a95b-15ca43c74660",
   "metadata": {},
   "outputs": [
    {
     "data": {
      "text/html": [
       "<div>\n",
       "<style scoped>\n",
       "    .dataframe tbody tr th:only-of-type {\n",
       "        vertical-align: middle;\n",
       "    }\n",
       "\n",
       "    .dataframe tbody tr th {\n",
       "        vertical-align: top;\n",
       "    }\n",
       "\n",
       "    .dataframe thead th {\n",
       "        text-align: right;\n",
       "    }\n",
       "</style>\n",
       "<table border=\"1\" class=\"dataframe\">\n",
       "  <thead>\n",
       "    <tr style=\"text-align: right;\">\n",
       "      <th></th>\n",
       "      <th>months</th>\n",
       "      <th>precip</th>\n",
       "      <th>seasons</th>\n",
       "    </tr>\n",
       "  </thead>\n",
       "  <tbody>\n",
       "    <tr>\n",
       "      <th>0</th>\n",
       "      <td>Jan</td>\n",
       "      <td>0.70</td>\n",
       "      <td>Winter</td>\n",
       "    </tr>\n",
       "    <tr>\n",
       "      <th>1</th>\n",
       "      <td>Feb</td>\n",
       "      <td>0.75</td>\n",
       "      <td>Winter</td>\n",
       "    </tr>\n",
       "    <tr>\n",
       "      <th>2</th>\n",
       "      <td>Mar</td>\n",
       "      <td>1.85</td>\n",
       "      <td>Spring</td>\n",
       "    </tr>\n",
       "    <tr>\n",
       "      <th>3</th>\n",
       "      <td>Apr</td>\n",
       "      <td>2.93</td>\n",
       "      <td>Spring</td>\n",
       "    </tr>\n",
       "    <tr>\n",
       "      <th>4</th>\n",
       "      <td>May</td>\n",
       "      <td>3.05</td>\n",
       "      <td>Spring</td>\n",
       "    </tr>\n",
       "    <tr>\n",
       "      <th>5</th>\n",
       "      <td>June</td>\n",
       "      <td>2.02</td>\n",
       "      <td>Summer</td>\n",
       "    </tr>\n",
       "    <tr>\n",
       "      <th>6</th>\n",
       "      <td>July</td>\n",
       "      <td>1.93</td>\n",
       "      <td>Summer</td>\n",
       "    </tr>\n",
       "    <tr>\n",
       "      <th>7</th>\n",
       "      <td>Aug</td>\n",
       "      <td>1.62</td>\n",
       "      <td>Summer</td>\n",
       "    </tr>\n",
       "    <tr>\n",
       "      <th>8</th>\n",
       "      <td>Sept</td>\n",
       "      <td>1.84</td>\n",
       "      <td>Fall</td>\n",
       "    </tr>\n",
       "    <tr>\n",
       "      <th>9</th>\n",
       "      <td>Oct</td>\n",
       "      <td>1.31</td>\n",
       "      <td>Fall</td>\n",
       "    </tr>\n",
       "    <tr>\n",
       "      <th>10</th>\n",
       "      <td>Nov</td>\n",
       "      <td>1.39</td>\n",
       "      <td>Fall</td>\n",
       "    </tr>\n",
       "    <tr>\n",
       "      <th>11</th>\n",
       "      <td>Dec</td>\n",
       "      <td>0.84</td>\n",
       "      <td>Winter</td>\n",
       "    </tr>\n",
       "  </tbody>\n",
       "</table>\n",
       "</div>"
      ],
      "text/plain": [
       "   months  precip seasons\n",
       "0     Jan    0.70  Winter\n",
       "1     Feb    0.75  Winter\n",
       "2     Mar    1.85  Spring\n",
       "3     Apr    2.93  Spring\n",
       "4     May    3.05  Spring\n",
       "5    June    2.02  Summer\n",
       "6    July    1.93  Summer\n",
       "7     Aug    1.62  Summer\n",
       "8    Sept    1.84    Fall\n",
       "9     Oct    1.31    Fall\n",
       "10    Nov    1.39    Fall\n",
       "11    Dec    0.84  Winter"
      ]
     },
     "execution_count": 10,
     "metadata": {},
     "output_type": "execute_result"
    }
   ],
   "source": [
    "import pandas as pd\n",
    "#需要注意文件的路径\n",
    "df=pd.read_csv('https://ndownloader.figshare.com/files/12710618')\n",
    "df"
   ]
  },
  {
   "cell_type": "markdown",
   "id": "fd42e92a-1e18-4e3e-b5e0-1951cfc5f34c",
   "metadata": {},
   "source": [
    "**查看数据内容**                                    \n",
    "当数据量很大时我们可以选择查看 pandas dataframe 的某几行，此功能对于无法在 Jupyter  Notebook 中轻松显示的大型数据集非常有用。\n",
    "例如读取上述文件前面五行："
   ]
  },
  {
   "cell_type": "code",
   "execution_count": 12,
   "id": "fe812810-82e0-47cb-ac34-45977113d1a7",
   "metadata": {},
   "outputs": [
    {
     "data": {
      "text/html": [
       "<div>\n",
       "<style scoped>\n",
       "    .dataframe tbody tr th:only-of-type {\n",
       "        vertical-align: middle;\n",
       "    }\n",
       "\n",
       "    .dataframe tbody tr th {\n",
       "        vertical-align: top;\n",
       "    }\n",
       "\n",
       "    .dataframe thead th {\n",
       "        text-align: right;\n",
       "    }\n",
       "</style>\n",
       "<table border=\"1\" class=\"dataframe\">\n",
       "  <thead>\n",
       "    <tr style=\"text-align: right;\">\n",
       "      <th></th>\n",
       "      <th>months</th>\n",
       "      <th>precip</th>\n",
       "      <th>seasons</th>\n",
       "    </tr>\n",
       "  </thead>\n",
       "  <tbody>\n",
       "    <tr>\n",
       "      <th>0</th>\n",
       "      <td>Jan</td>\n",
       "      <td>0.70</td>\n",
       "      <td>Winter</td>\n",
       "    </tr>\n",
       "    <tr>\n",
       "      <th>1</th>\n",
       "      <td>Feb</td>\n",
       "      <td>0.75</td>\n",
       "      <td>Winter</td>\n",
       "    </tr>\n",
       "    <tr>\n",
       "      <th>2</th>\n",
       "      <td>Mar</td>\n",
       "      <td>1.85</td>\n",
       "      <td>Spring</td>\n",
       "    </tr>\n",
       "    <tr>\n",
       "      <th>3</th>\n",
       "      <td>Apr</td>\n",
       "      <td>2.93</td>\n",
       "      <td>Spring</td>\n",
       "    </tr>\n",
       "    <tr>\n",
       "      <th>4</th>\n",
       "      <td>May</td>\n",
       "      <td>3.05</td>\n",
       "      <td>Spring</td>\n",
       "    </tr>\n",
       "  </tbody>\n",
       "</table>\n",
       "</div>"
      ],
      "text/plain": [
       "  months  precip seasons\n",
       "0    Jan    0.70  Winter\n",
       "1    Feb    0.75  Winter\n",
       "2    Mar    1.85  Spring\n",
       "3    Apr    2.93  Spring\n",
       "4    May    3.05  Spring"
      ]
     },
     "execution_count": 12,
     "metadata": {},
     "output_type": "execute_result"
    }
   ],
   "source": [
    "df.head()"
   ]
  },
  {
   "cell_type": "markdown",
   "id": "50825589-722a-4b29-a4f5-fa455bddeb86",
   "metadata": {},
   "source": [
    "**描述数据类型**                                        \n",
    "pandas dataframe中，利用*info()* 方法可以返回表格的一些基本信息。例如：输出行数，列数，列名以及数据类型等。\n",
    "下面我们来看一个实例："
   ]
  },
  {
   "cell_type": "code",
   "execution_count": 13,
   "id": "ae364c67-bbe3-4bd1-a4f3-1fa0633c7310",
   "metadata": {},
   "outputs": [
    {
     "name": "stdout",
     "output_type": "stream",
     "text": [
      "<class 'pandas.core.frame.DataFrame'>\n",
      "RangeIndex: 12 entries, 0 to 11\n",
      "Data columns (total 3 columns):\n",
      " #   Column   Non-Null Count  Dtype  \n",
      "---  ------   --------------  -----  \n",
      " 0   months   12 non-null     object \n",
      " 1   precip   12 non-null     float64\n",
      " 2   seasons  12 non-null     object \n",
      "dtypes: float64(1), object(2)\n",
      "memory usage: 416.0+ bytes\n"
     ]
    }
   ],
   "source": [
    "df.info()"
   ]
  },
  {
   "cell_type": "markdown",
   "id": "fe8566cb-4a77-4afd-84d1-6a433b6e6c9f",
   "metadata": {},
   "source": [
    "### 3.2 简单运算\n",
    "\n",
    "从描述统计角度出发，我们可以对 DataFrame 结构执行聚合计算等其他操作。\n",
    "*sum、mean、count、max、min* 这五个函数属于最常用的几个函数。    \n",
    "\n",
    "示例：对precip列求平均值"
   ]
  },
  {
   "cell_type": "code",
   "execution_count": 14,
   "id": "dbaa0192-0188-4752-8da1-5e149010f460",
   "metadata": {},
   "outputs": [
    {
     "data": {
      "text/plain": [
       "1.6858333333333333"
      ]
     },
     "execution_count": 14,
     "metadata": {},
     "output_type": "execute_result"
    }
   ],
   "source": [
    "df['precip'].mean()"
   ]
  },
  {
   "cell_type": "markdown",
   "id": "58519e43-168e-469b-96fc-9aa79f60a843",
   "metadata": {},
   "source": [
    "**数值进行排序**  \n",
    "\n",
    "我们在 numpy 数组小节中介绍过如何识别最大值，最小值，但是要是用在本节的示例文件，使用numpy我们不能使降水与月份产生联系，但是使用 pandas dataframe 我们可以使数据按降序排序，以查找最大值及其对应的月份。\n",
    "\n",
    "下面是示例:\n",
    "\n",
    "可以看出降水量最大的月份是五月。"
   ]
  },
  {
   "cell_type": "code",
   "execution_count": 15,
   "id": "283ff1bf-f419-4554-aec1-f800e9c5d33f",
   "metadata": {},
   "outputs": [
    {
     "data": {
      "text/html": [
       "<div>\n",
       "<style scoped>\n",
       "    .dataframe tbody tr th:only-of-type {\n",
       "        vertical-align: middle;\n",
       "    }\n",
       "\n",
       "    .dataframe tbody tr th {\n",
       "        vertical-align: top;\n",
       "    }\n",
       "\n",
       "    .dataframe thead th {\n",
       "        text-align: right;\n",
       "    }\n",
       "</style>\n",
       "<table border=\"1\" class=\"dataframe\">\n",
       "  <thead>\n",
       "    <tr style=\"text-align: right;\">\n",
       "      <th></th>\n",
       "      <th>months</th>\n",
       "      <th>precip</th>\n",
       "      <th>seasons</th>\n",
       "    </tr>\n",
       "  </thead>\n",
       "  <tbody>\n",
       "    <tr>\n",
       "      <th>4</th>\n",
       "      <td>May</td>\n",
       "      <td>3.05</td>\n",
       "      <td>Spring</td>\n",
       "    </tr>\n",
       "    <tr>\n",
       "      <th>3</th>\n",
       "      <td>Apr</td>\n",
       "      <td>2.93</td>\n",
       "      <td>Spring</td>\n",
       "    </tr>\n",
       "    <tr>\n",
       "      <th>5</th>\n",
       "      <td>June</td>\n",
       "      <td>2.02</td>\n",
       "      <td>Summer</td>\n",
       "    </tr>\n",
       "    <tr>\n",
       "      <th>6</th>\n",
       "      <td>July</td>\n",
       "      <td>1.93</td>\n",
       "      <td>Summer</td>\n",
       "    </tr>\n",
       "    <tr>\n",
       "      <th>2</th>\n",
       "      <td>Mar</td>\n",
       "      <td>1.85</td>\n",
       "      <td>Spring</td>\n",
       "    </tr>\n",
       "  </tbody>\n",
       "</table>\n",
       "</div>"
      ],
      "text/plain": [
       "  months  precip seasons\n",
       "4    May    3.05  Spring\n",
       "3    Apr    2.93  Spring\n",
       "5   June    2.02  Summer\n",
       "6   July    1.93  Summer\n",
       "2    Mar    1.85  Spring"
      ]
     },
     "execution_count": 15,
     "metadata": {},
     "output_type": "execute_result"
    }
   ],
   "source": [
    "df_sorted = df.sort_values(by=\"precip\",ascending=False)  # by指定按哪列排序。ascending表示是否升序\n",
    "df_sorted.head()"
   ]
  },
  {
   "cell_type": "markdown",
   "id": "2ebbdbf8-c9b8-40a5-bbd0-229ebdcce181",
   "metadata": {},
   "source": [
    "### 3.3 快速绘图                                                             \n",
    "\n",
    "下一节我们会使用matplotlib绘图，但是用pandas提供的绘图工具能更快地帮助我们初步可视化数据，这里是一个简单的示例："
   ]
  },
  {
   "cell_type": "code",
   "execution_count": 17,
   "id": "6b6e1f17-423b-4151-9de9-6a4471b91a6d",
   "metadata": {},
   "outputs": [
    {
     "data": {
      "text/plain": [
       "<AxesSubplot: xlabel='months'>"
      ]
     },
     "execution_count": 17,
     "metadata": {},
     "output_type": "execute_result"
    },
    {
     "data": {
      "image/png": "[encoded data removed]",
      "text/plain": [
       "<Figure size 640x480 with 1 Axes>"
      ]
     },
     "metadata": {},
     "output_type": "display_data"
    }
   ],
   "source": [
    "import pandas as pd\n",
    "import numpy as np\n",
    "df.plot.line(x='months',y='precip')"
   ]
  },
  {
   "cell_type": "markdown",
   "id": "72c64acb-4413-480f-acab-6624403ecae3",
   "metadata": {},
   "source": [
    "### 3.4 pandas dataframe 数据索引\n",
    "\n",
    "pandas dataframe 中有两种索引方式：**基于位置索引**和**基于标签索引**。\n",
    "\n",
    "一个 DataFrame 对象表示一个电子表格，带有单元格值、列名和行索引标签。因此，该结构支持使用索引选择数据，例如选择在某在行和列交点的位置标识的单个单元格。我们还可以使用特定标签（如列名称）从 pandas 数据帧中选择数据，而无需知道该数据在 pandas 数据帧中的位置。\n",
    "\n",
    "**（1）基于标签的索引**\n",
    "\n",
    "pandas dataframe 也可以使用基于标签的索引进行查询，此功能非常有用，因为我们可以使用要用于组织和查询数据的特定列（即标签）为 pandas dataframe 创建索引。\n",
    "```\n",
    "data.loc[<row selection>, <column selection>]\n",
    "```\n",
    "当通过标签索引的切片方式来筛选数据时，它的取值前闭后闭，也就是只包括边界值标签（开始和结束）。  \n",
    "\n",
    "**（2）基于位置索引**\n",
    "\n",
    "我们可以使用基于位置的索引来查询 pandas dataframe 中的数据，并提供行和列选择作为范围(即沿行和列的开始和停止位置)。\n",
    "```\n",
    "data.iloc[<row selection>, <column selection>]\n",
    "```\n",
    "通过整数索引切片选择数据时，前闭后开(不包含边界结束值)。同 python 和 numpy 一样，它们的索引都是从 0 开始。\n",
    "\n",
    "**（3）筛选数据**\n",
    "\n",
    "除了使用索引之外，我们还可以通过查询满足特定条件的值来选择或筛选 pandas dataframe中的数据。例如，我们可以使用以下命令根据列中的特定值选择 pandas 数据帧中的数据：\n",
    "```\n",
    "dataframe[dataframe[\"column\"] == value]\n",
    "```\n",
    "这将返回指定列中包含该值的所有行。\n",
    "\n",
    "下面是例子。"
   ]
  },
  {
   "cell_type": "code",
   "execution_count": 20,
   "id": "07f9bc1a-e154-40a0-8c90-211b27e7b292",
   "metadata": {},
   "outputs": [
    {
     "data": {
      "text/html": [
       "<div>\n",
       "<style scoped>\n",
       "    .dataframe tbody tr th:only-of-type {\n",
       "        vertical-align: middle;\n",
       "    }\n",
       "\n",
       "    .dataframe tbody tr th {\n",
       "        vertical-align: top;\n",
       "    }\n",
       "\n",
       "    .dataframe thead th {\n",
       "        text-align: right;\n",
       "    }\n",
       "</style>\n",
       "<table border=\"1\" class=\"dataframe\">\n",
       "  <thead>\n",
       "    <tr style=\"text-align: right;\">\n",
       "      <th></th>\n",
       "      <th>months</th>\n",
       "      <th>precip</th>\n",
       "      <th>seasons</th>\n",
       "    </tr>\n",
       "  </thead>\n",
       "  <tbody>\n",
       "    <tr>\n",
       "      <th>0</th>\n",
       "      <td>Jan</td>\n",
       "      <td>0.70</td>\n",
       "      <td>Winter</td>\n",
       "    </tr>\n",
       "    <tr>\n",
       "      <th>1</th>\n",
       "      <td>Feb</td>\n",
       "      <td>0.75</td>\n",
       "      <td>Winter</td>\n",
       "    </tr>\n",
       "    <tr>\n",
       "      <th>2</th>\n",
       "      <td>Mar</td>\n",
       "      <td>1.85</td>\n",
       "      <td>Spring</td>\n",
       "    </tr>\n",
       "    <tr>\n",
       "      <th>3</th>\n",
       "      <td>Apr</td>\n",
       "      <td>2.93</td>\n",
       "      <td>Spring</td>\n",
       "    </tr>\n",
       "    <tr>\n",
       "      <th>4</th>\n",
       "      <td>May</td>\n",
       "      <td>3.05</td>\n",
       "      <td>Spring</td>\n",
       "    </tr>\n",
       "    <tr>\n",
       "      <th>5</th>\n",
       "      <td>June</td>\n",
       "      <td>2.02</td>\n",
       "      <td>Summer</td>\n",
       "    </tr>\n",
       "    <tr>\n",
       "      <th>6</th>\n",
       "      <td>July</td>\n",
       "      <td>1.93</td>\n",
       "      <td>Summer</td>\n",
       "    </tr>\n",
       "    <tr>\n",
       "      <th>7</th>\n",
       "      <td>Aug</td>\n",
       "      <td>1.62</td>\n",
       "      <td>Summer</td>\n",
       "    </tr>\n",
       "    <tr>\n",
       "      <th>8</th>\n",
       "      <td>Sept</td>\n",
       "      <td>1.84</td>\n",
       "      <td>Fall</td>\n",
       "    </tr>\n",
       "    <tr>\n",
       "      <th>9</th>\n",
       "      <td>Oct</td>\n",
       "      <td>1.31</td>\n",
       "      <td>Fall</td>\n",
       "    </tr>\n",
       "    <tr>\n",
       "      <th>10</th>\n",
       "      <td>Nov</td>\n",
       "      <td>1.39</td>\n",
       "      <td>Fall</td>\n",
       "    </tr>\n",
       "    <tr>\n",
       "      <th>11</th>\n",
       "      <td>Dec</td>\n",
       "      <td>0.84</td>\n",
       "      <td>Winter</td>\n",
       "    </tr>\n",
       "  </tbody>\n",
       "</table>\n",
       "</div>"
      ],
      "text/plain": [
       "   months  precip seasons\n",
       "0     Jan    0.70  Winter\n",
       "1     Feb    0.75  Winter\n",
       "2     Mar    1.85  Spring\n",
       "3     Apr    2.93  Spring\n",
       "4     May    3.05  Spring\n",
       "5    June    2.02  Summer\n",
       "6    July    1.93  Summer\n",
       "7     Aug    1.62  Summer\n",
       "8    Sept    1.84    Fall\n",
       "9     Oct    1.31    Fall\n",
       "10    Nov    1.39    Fall\n",
       "11    Dec    0.84  Winter"
      ]
     },
     "execution_count": 20,
     "metadata": {},
     "output_type": "execute_result"
    }
   ],
   "source": [
    "# 接下来要索引的数据\n",
    "df"
   ]
  },
  {
   "cell_type": "markdown",
   "id": "04c92b90-350c-4e1f-b257-39ac92ed4a8e",
   "metadata": {},
   "source": [
    "**示例1：索引第二行的值，行标签是“1”**"
   ]
  },
  {
   "cell_type": "code",
   "execution_count": 18,
   "id": "0ea19794-4918-47e9-8677-cfddf5c8396e",
   "metadata": {},
   "outputs": [
    {
     "data": {
      "text/plain": [
       "months        Feb\n",
       "precip       0.75\n",
       "seasons    Winter\n",
       "Name: 1, dtype: object"
      ]
     },
     "execution_count": 18,
     "metadata": {},
     "output_type": "execute_result"
    }
   ],
   "source": [
    "df.loc[1]"
   ]
  },
  {
   "cell_type": "markdown",
   "id": "95c1c963-f08b-4544-b8e5-7e0fbe27e851",
   "metadata": {},
   "source": [
    "**示例2：读取第二列的值**"
   ]
  },
  {
   "cell_type": "code",
   "execution_count": 21,
   "id": "a7c1fcf2-8c84-4493-a5bd-74a97e7b0498",
   "metadata": {},
   "outputs": [
    {
     "data": {
      "text/plain": [
       "0      Jan\n",
       "1      Feb\n",
       "2      Mar\n",
       "3      Apr\n",
       "4      May\n",
       "5     June\n",
       "6     July\n",
       "7      Aug\n",
       "8     Sept\n",
       "9      Oct\n",
       "10     Nov\n",
       "11     Dec\n",
       "Name: months, dtype: object"
      ]
     },
     "execution_count": 21,
     "metadata": {},
     "output_type": "execute_result"
    }
   ],
   "source": [
    "df.loc[ : ,\"months\"]"
   ]
  },
  {
   "cell_type": "markdown",
   "id": "e7440542-b692-41a3-9ba8-d2a8cd8bf2ea",
   "metadata": {},
   "source": [
    "**示例3: 读取第1行到第2行，第2列到第3列的值**"
   ]
  },
  {
   "cell_type": "code",
   "execution_count": 22,
   "id": "584e6d70-a289-40f3-b1ec-0c93082b0b8f",
   "metadata": {},
   "outputs": [
    {
     "data": {
      "text/html": [
       "<div>\n",
       "<style scoped>\n",
       "    .dataframe tbody tr th:only-of-type {\n",
       "        vertical-align: middle;\n",
       "    }\n",
       "\n",
       "    .dataframe tbody tr th {\n",
       "        vertical-align: top;\n",
       "    }\n",
       "\n",
       "    .dataframe thead th {\n",
       "        text-align: right;\n",
       "    }\n",
       "</style>\n",
       "<table border=\"1\" class=\"dataframe\">\n",
       "  <thead>\n",
       "    <tr style=\"text-align: right;\">\n",
       "      <th></th>\n",
       "      <th>months</th>\n",
       "      <th>precip</th>\n",
       "    </tr>\n",
       "  </thead>\n",
       "  <tbody>\n",
       "    <tr>\n",
       "      <th>1</th>\n",
       "      <td>Feb</td>\n",
       "      <td>0.75</td>\n",
       "    </tr>\n",
       "    <tr>\n",
       "      <th>2</th>\n",
       "      <td>Mar</td>\n",
       "      <td>1.85</td>\n",
       "    </tr>\n",
       "    <tr>\n",
       "      <th>3</th>\n",
       "      <td>Apr</td>\n",
       "      <td>2.93</td>\n",
       "    </tr>\n",
       "  </tbody>\n",
       "</table>\n",
       "</div>"
      ],
      "text/plain": [
       "  months  precip\n",
       "1    Feb    0.75\n",
       "2    Mar    1.85\n",
       "3    Apr    2.93"
      ]
     },
     "execution_count": 22,
     "metadata": {},
     "output_type": "execute_result"
    }
   ],
   "source": [
    "df.loc[1:3,\"months\":\"precip\"]"
   ]
  },
  {
   "cell_type": "markdown",
   "id": "e2ef4b06-9fc8-4efd-a0d5-2e9bd0b31d17",
   "metadata": {},
   "source": [
    "Pandas中的 iloc 是用基于整数的下标来进行数据定位/选择\n",
    "\n",
    "iloc 在 pandas 中是用来通过数字来选择数据中具体的某些行和列。你可以设想每一行都有一个对应的下标（0,1,2，…)，通过 iloc 我们可以利用这些下标去选择相应的行数据。同理，对于行也一样，想象每一列也有对应的下标(0,1,2,…),通过这些下标也可以选择相应的列数据。我们可以选择具体的某行某列，也可以行列混合选择。"
   ]
  },
  {
   "cell_type": "markdown",
   "id": "5f30a3cb-7eb1-4f96-b045-20bda0c5234c",
   "metadata": {},
   "source": [
    "**示例4：读取第2行,第2列的值**"
   ]
  },
  {
   "cell_type": "code",
   "execution_count": 23,
   "id": "b14dce52-3f68-4de2-b1d6-1e1fc2507f2b",
   "metadata": {},
   "outputs": [
    {
     "data": {
      "text/plain": [
       "0.75"
      ]
     },
     "execution_count": 23,
     "metadata": {},
     "output_type": "execute_result"
    }
   ],
   "source": [
    "df.iloc[1,1]"
   ]
  },
  {
   "cell_type": "markdown",
   "id": "c95fef96-e40d-465d-855b-0e9f219bb45e",
   "metadata": {},
   "source": [
    "**示例5：进行切片操作**\n",
    "\n",
    "按 index 和 columns 进行切片操作，读取第2、3行，第2、3列"
   ]
  },
  {
   "cell_type": "code",
   "execution_count": 24,
   "id": "d1da3e78-e84c-4a30-af64-a3184aa3b0a6",
   "metadata": {},
   "outputs": [
    {
     "data": {
      "text/html": [
       "<div>\n",
       "<style scoped>\n",
       "    .dataframe tbody tr th:only-of-type {\n",
       "        vertical-align: middle;\n",
       "    }\n",
       "\n",
       "    .dataframe tbody tr th {\n",
       "        vertical-align: top;\n",
       "    }\n",
       "\n",
       "    .dataframe thead th {\n",
       "        text-align: right;\n",
       "    }\n",
       "</style>\n",
       "<table border=\"1\" class=\"dataframe\">\n",
       "  <thead>\n",
       "    <tr style=\"text-align: right;\">\n",
       "      <th></th>\n",
       "      <th>precip</th>\n",
       "      <th>seasons</th>\n",
       "    </tr>\n",
       "  </thead>\n",
       "  <tbody>\n",
       "    <tr>\n",
       "      <th>1</th>\n",
       "      <td>0.75</td>\n",
       "      <td>Winter</td>\n",
       "    </tr>\n",
       "    <tr>\n",
       "      <th>2</th>\n",
       "      <td>1.85</td>\n",
       "      <td>Spring</td>\n",
       "    </tr>\n",
       "  </tbody>\n",
       "</table>\n",
       "</div>"
      ],
      "text/plain": [
       "   precip seasons\n",
       "1    0.75  Winter\n",
       "2    1.85  Spring"
      ]
     },
     "execution_count": 24,
     "metadata": {},
     "output_type": "execute_result"
    }
   ],
   "source": [
    "df.iloc[1:3,1:3]"
   ]
  },
  {
   "cell_type": "markdown",
   "id": "e5ab9622-3dae-4e97-9515-2a0ce421caae",
   "metadata": {},
   "source": [
    "使用特定值筛选数据\n",
    "```\n",
    "dataframe[dataframe[\"column\"] == value]\n",
    "```\n",
    "\n",
    "将返回指定列中包含该值的所有行。"
   ]
  },
  {
   "cell_type": "markdown",
   "id": "2f9aecb3-5eac-4bf6-8233-d0b291db77d2",
   "metadata": {},
   "source": [
    "**示例6：筛选出 precip 大于 2mm 的数据**"
   ]
  },
  {
   "cell_type": "code",
   "execution_count": 25,
   "id": "4ab3efa4-53cf-41ad-adfc-94e64a7722f1",
   "metadata": {},
   "outputs": [
    {
     "data": {
      "text/html": [
       "<div>\n",
       "<style scoped>\n",
       "    .dataframe tbody tr th:only-of-type {\n",
       "        vertical-align: middle;\n",
       "    }\n",
       "\n",
       "    .dataframe tbody tr th {\n",
       "        vertical-align: top;\n",
       "    }\n",
       "\n",
       "    .dataframe thead th {\n",
       "        text-align: right;\n",
       "    }\n",
       "</style>\n",
       "<table border=\"1\" class=\"dataframe\">\n",
       "  <thead>\n",
       "    <tr style=\"text-align: right;\">\n",
       "      <th></th>\n",
       "      <th>months</th>\n",
       "      <th>precip</th>\n",
       "      <th>seasons</th>\n",
       "    </tr>\n",
       "  </thead>\n",
       "  <tbody>\n",
       "    <tr>\n",
       "      <th>3</th>\n",
       "      <td>Apr</td>\n",
       "      <td>2.93</td>\n",
       "      <td>Spring</td>\n",
       "    </tr>\n",
       "    <tr>\n",
       "      <th>4</th>\n",
       "      <td>May</td>\n",
       "      <td>3.05</td>\n",
       "      <td>Spring</td>\n",
       "    </tr>\n",
       "    <tr>\n",
       "      <th>5</th>\n",
       "      <td>June</td>\n",
       "      <td>2.02</td>\n",
       "      <td>Summer</td>\n",
       "    </tr>\n",
       "  </tbody>\n",
       "</table>\n",
       "</div>"
      ],
      "text/plain": [
       "  months  precip seasons\n",
       "3    Apr    2.93  Spring\n",
       "4    May    3.05  Spring\n",
       "5   June    2.02  Summer"
      ]
     },
     "execution_count": 25,
     "metadata": {},
     "output_type": "execute_result"
    }
   ],
   "source": [
    "df[df[\"precip\"]>2]"
   ]
  },
  {
   "cell_type": "markdown",
   "id": "801bb1fc-9198-4db9-a8a0-df397f5be9a4",
   "metadata": {},
   "source": [
    "**示例7：筛选出夏季的数据**"
   ]
  },
  {
   "cell_type": "code",
   "execution_count": 26,
   "id": "7e14d5e1-ca95-41c1-bf26-349c2199139e",
   "metadata": {},
   "outputs": [
    {
     "data": {
      "text/html": [
       "<div>\n",
       "<style scoped>\n",
       "    .dataframe tbody tr th:only-of-type {\n",
       "        vertical-align: middle;\n",
       "    }\n",
       "\n",
       "    .dataframe tbody tr th {\n",
       "        vertical-align: top;\n",
       "    }\n",
       "\n",
       "    .dataframe thead th {\n",
       "        text-align: right;\n",
       "    }\n",
       "</style>\n",
       "<table border=\"1\" class=\"dataframe\">\n",
       "  <thead>\n",
       "    <tr style=\"text-align: right;\">\n",
       "      <th></th>\n",
       "      <th>months</th>\n",
       "      <th>precip</th>\n",
       "      <th>seasons</th>\n",
       "    </tr>\n",
       "  </thead>\n",
       "  <tbody>\n",
       "    <tr>\n",
       "      <th>5</th>\n",
       "      <td>June</td>\n",
       "      <td>2.02</td>\n",
       "      <td>Summer</td>\n",
       "    </tr>\n",
       "    <tr>\n",
       "      <th>6</th>\n",
       "      <td>July</td>\n",
       "      <td>1.93</td>\n",
       "      <td>Summer</td>\n",
       "    </tr>\n",
       "    <tr>\n",
       "      <th>7</th>\n",
       "      <td>Aug</td>\n",
       "      <td>1.62</td>\n",
       "      <td>Summer</td>\n",
       "    </tr>\n",
       "  </tbody>\n",
       "</table>\n",
       "</div>"
      ],
      "text/plain": [
       "  months  precip seasons\n",
       "5   June    2.02  Summer\n",
       "6   July    1.93  Summer\n",
       "7    Aug    1.62  Summer"
      ]
     },
     "execution_count": 26,
     "metadata": {},
     "output_type": "execute_result"
    }
   ],
   "source": [
    "df[df[\"seasons\"] == \"Summer\"]"
   ]
  },
  {
   "cell_type": "markdown",
   "id": "9d12ec9d-d02e-4550-9a5f-b1e5ab7c9895",
   "metadata": {},
   "source": [
    "**示例8：使用筛选出来的值生成一个新的 dataframe**\n",
    "我们可以通过将输出设置为等于筛选器的输出，将输出保存到新的数据帧。\n",
    "示例：筛选一月的数值保存到新的数据帧"
   ]
  },
  {
   "cell_type": "code",
   "execution_count": 27,
   "id": "6fec0e71-1bea-487a-b4de-c6650b81f344",
   "metadata": {},
   "outputs": [
    {
     "data": {
      "text/html": [
       "<div>\n",
       "<style scoped>\n",
       "    .dataframe tbody tr th:only-of-type {\n",
       "        vertical-align: middle;\n",
       "    }\n",
       "\n",
       "    .dataframe tbody tr th {\n",
       "        vertical-align: top;\n",
       "    }\n",
       "\n",
       "    .dataframe thead th {\n",
       "        text-align: right;\n",
       "    }\n",
       "</style>\n",
       "<table border=\"1\" class=\"dataframe\">\n",
       "  <thead>\n",
       "    <tr style=\"text-align: right;\">\n",
       "      <th></th>\n",
       "      <th>months</th>\n",
       "      <th>precip</th>\n",
       "      <th>seasons</th>\n",
       "    </tr>\n",
       "  </thead>\n",
       "  <tbody>\n",
       "    <tr>\n",
       "      <th>0</th>\n",
       "      <td>Jan</td>\n",
       "      <td>0.7</td>\n",
       "      <td>Winter</td>\n",
       "    </tr>\n",
       "  </tbody>\n",
       "</table>\n",
       "</div>"
      ],
      "text/plain": [
       "  months  precip seasons\n",
       "0    Jan     0.7  Winter"
      ]
     },
     "execution_count": 27,
     "metadata": {},
     "output_type": "execute_result"
    }
   ],
   "source": [
    "df1 = df[df[\"months\"] == \"Jan\"]\n",
    "df1"
   ]
  },
  {
   "cell_type": "markdown",
   "id": "98643349-3fcb-439e-96c4-96a8c6383ee8",
   "metadata": {},
   "source": [
    "Pandas也有很多功能，这里也无法一一介绍，大家初步了解即可，更多内容在实际用到的时候再查就行：[Pandas中文网](https://www.pypandas.cn/docs/)、[官方用户手册](https://pandas.pydata.org/pandas-docs/stable/index.html)以及 [Pandas教程](https://www.yiibai.com/pandas)"
   ]
  }
 ],
 "metadata": {
  "kernelspec": {
   "display_name": "Python (tutorial)",
   "language": "python",
   "name": "tutorial"
  },
  "language_info": {
   "codemirror_mode": {
    "name": "ipython",
    "version": 3
   },
   "file_extension": ".py",
   "mimetype": "text/x-python",
   "name": "python",
   "nbconvert_exporter": "python",
   "pygments_lexer": "ipython3",
   "version": "3.9.13"
  }
 },
 "nbformat": 4,
 "nbformat_minor": 5
}
