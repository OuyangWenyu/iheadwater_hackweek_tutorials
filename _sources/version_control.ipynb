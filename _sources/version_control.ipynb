{
 "cells": [
  {
   "cell_type": "markdown",
   "id": "e81b9ae8-8429-4d95-977d-f6998d7b8c74",
   "metadata": {},
   "source": [
    "# 版本控制\n"
   ]
  }
 ],
 "metadata": {
  "kernelspec": {
   "display_name": "Python (ml-base)",
   "language": "python",
   "name": "ml-base"
  },
  "language_info": {
   "codemirror_mode": {
    "name": "ipython",
    "version": 3
   },
   "file_extension": ".py",
   "mimetype": "text/x-python",
   "name": "python",
   "nbconvert_exporter": "python",
   "pygments_lexer": "ipython3",
   "version": "3.10.5"
  }
 },
 "nbformat": 4,
 "nbformat_minor": 5
}
