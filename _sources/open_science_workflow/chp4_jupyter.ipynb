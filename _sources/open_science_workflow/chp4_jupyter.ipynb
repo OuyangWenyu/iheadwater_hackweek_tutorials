{
 "cells": [
  {
   "cell_type": "markdown",
   "id": "6e74922a-2dce-49a9-ab5d-55df9d9a487d",
   "metadata": {},
   "source": [
    "# 4 Jupyter XXX\n",
    "\n",
    "敬请期待……"
   ]
  }
 ],
 "metadata": {
  "kernelspec": {
   "display_name": "Python (ml-base)",
   "language": "python",
   "name": "ml-base"
  },
  "language_info": {
   "codemirror_mode": {
    "name": "ipython",
    "version": 3
   },
   "file_extension": ".py",
   "mimetype": "text/x-python",
   "name": "python",
   "nbconvert_exporter": "python",
   "pygments_lexer": "ipython3",
   "version": "3.10.5"
  }
 },
 "nbformat": 4,
 "nbformat_minor": 5
}
